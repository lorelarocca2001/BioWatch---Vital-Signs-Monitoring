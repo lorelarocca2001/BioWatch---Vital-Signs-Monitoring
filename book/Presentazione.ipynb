{
 "cells": [
  {
   "cell_type": "markdown",
   "id": "0a1c7cda",
   "metadata": {
    "cell_style": "center",
    "slideshow": {
     "slide_type": "slide"
    }
   },
   "source": [
    "# Introduzione a BioWatch"
   ]
  },
  {
   "attachments": {},
   "cell_type": "markdown",
   "id": "93c0a957",
   "metadata": {
    "cell_style": "split",
    "slideshow": {
     "slide_type": "fragment"
    }
   },
   "source": [
    "<img src=\"./images/realtime_monitoring.jpg\" width=\"300\"/>"
   ]
  },
  {
   "cell_type": "markdown",
   "id": "e9be0493",
   "metadata": {
    "cell_style": "split",
    "slideshow": {
     "slide_type": "fragment"
    }
   },
   "source": [
    "**BioWatch** è un sistema di monitoraggio dei parametri vitali dei pazienti, progettato per supportare il personale sanitario nella gestione dei pazienti a distanza, attraverso la raccolta, l'elaborazione e la visualizzazione in tempo reale dei segnali vitali."
   ]
  },
  {
   "cell_type": "markdown",
   "id": "716398bc",
   "metadata": {
    "slideshow": {
     "slide_type": "slide"
    }
   },
   "source": [
    "# Obiettivi del progetto"
   ]
  },
  {
   "cell_type": "markdown",
   "id": "b3ba0da1",
   "metadata": {
    "cell_style": "center",
    "slideshow": {
     "slide_type": "subslide"
    }
   },
   "source": [
    "# Monitoraggio continuo e remoto\n",
    "Tradizionalmente, i pazienti che necessitano di un monitoraggio continuo dei parametri vitali sono **connessi a dispositivi di monitoraggio fissi**, che permettono agli operatori sanitari di avere accesso in tempo reale ai dati vitali del paziente, mentre il paziente rimane sotto osservazione costante. Questo tipo di monitoraggio è ovviamente fondamentale per pazienti in condizioni critiche. Tuttavia, esistono anche pazienti con condizioni di salute meno critiche, che potrebbero beneficiare di un monitoraggio costante, **ma senza necessità di una presenza costante in ospedale**. "
   ]
  },
  {
   "cell_type": "markdown",
   "id": "12226a33",
   "metadata": {
    "cell_style": "center",
    "slideshow": {
     "slide_type": "subslide"
    }
   },
   "source": [
    "# Accessibilità remota per i medici \n",
    "L'accesso remoto ai dati vitali dei pazienti consente ai medici di monitorare in tempo reale i parametri vitali senza la necessità di essere fisicamente presenti al letto del paziente.\n",
    "Utilizzando dispositivi mobili (smartphone, tablet) o piattaforme cloud, i medici possono accedere a queste informazioni ovunque si trovino, sia che siano in ospedale, a casa o in un altro luogo. Questo significa che **la cura del paziente non dipende più dalla presenza fisica del medico, ma dalla disponibilità dei dati in tempo reale**."
   ]
  },
  {
   "cell_type": "markdown",
   "id": "cf3d2666",
   "metadata": {
    "slideshow": {
     "slide_type": "subslide"
    }
   },
   "source": [
    "# Miglioramento della qualità di vita dei pazienti\n",
    "La possibilità di essere monitorati da remoto, senza la necessità di recarsi continuamente in ospedale o in clinica, migliora la qualità della vita dei pazienti. I pazienti non devono affrontare lunghe attese o spostamenti, specialmente quelli che vivono lontano da strutture sanitarie, e possono continuare la loro vita quotidiana in modo più sereno, senza lo stress e l'ansia che possono derivare dalle visite ospedaliere frequenti."
   ]
  },
  {
   "cell_type": "markdown",
   "id": "3863c5e8",
   "metadata": {
    "slideshow": {
     "slide_type": "subslide"
    }
   },
   "source": [
    "# Integrazione con modelli di AI"
   ]
  },
  {
   "cell_type": "markdown",
   "id": "467c6c72",
   "metadata": {
    "cell_style": "split",
    "slideshow": {
     "slide_type": "fragment"
    }
   },
   "source": [
    "- Se il modello viene addestrato su **dati storici** di pazienti che hanno subito un evento critico, esso può  imparare a riconoscere  **pattern precoci di deterioramento** e prevedere un peggioramento prima che diventi critico."
   ]
  },
  {
   "cell_type": "markdown",
   "id": "ca75167e",
   "metadata": {
    "cell_style": "split",
    "slideshow": {
     "slide_type": "fragment"
    }
   },
   "source": [
    "- Un modello di ML può essere usato per **automatizzare la valutazione del rischio**. A differenza dei sistemi che si basano su **soglie fisse** il modello può apprendere dei **pattern complessi** che prendono in considerazione le interazioni tra i diversi parametri fisiologici."
   ]
  },
  {
   "cell_type": "markdown",
   "id": "8ecc5d4c",
   "metadata": {
    "slideshow": {
     "slide_type": "subslide"
    }
   },
   "source": [
    "# Ottimizzazione delle risorse ospedaliere\n",
    "Poiché non è necessario che il paziente sia sempre ricoverato, il sistema riduce la pressione sulle strutture ospedaliere e sulle risorse sanitarie. I pazienti che non necessitano di ricovero possono essere monitorati a distanza, lasciando spazio nei reparti ospedalieri per chi è realmente in condizioni critiche."
   ]
  },
  {
   "cell_type": "markdown",
   "id": "a339cdf9",
   "metadata": {
    "slideshow": {
     "slide_type": "slide"
    }
   },
   "source": [
    "# Data pipeline"
   ]
  },
  {
   "attachments": {},
   "cell_type": "markdown",
   "id": "e2b84495",
   "metadata": {
    "slideshow": {
     "slide_type": "subslide"
    }
   },
   "source": [
    "L'architettura del sistema è costruita usando tecnologie avanzate, tutte containerizzate tramite **Docker** per garantire portabilità e facilità di distribuzione.\n",
    "\n",
    "<img src=\"./images/data pipeline.png\" width=\"1000\"/>"
   ]
  },
  {
   "cell_type": "markdown",
   "id": "49f89347",
   "metadata": {
    "slideshow": {
     "slide_type": "slide"
    }
   },
   "source": [
    "# Iniziamo il viaggio all'interno della Data Pipeline..."
   ]
  },
  {
   "cell_type": "markdown",
   "id": "14fd8098",
   "metadata": {
    "slideshow": {
     "slide_type": "subslide"
    }
   },
   "source": [
    "# Come possiamo simulare i parametri vitali?"
   ]
  },
  {
   "attachments": {},
   "cell_type": "markdown",
   "id": "8c0a9ca4",
   "metadata": {
    "cell_style": "split",
    "slideshow": {
     "slide_type": "subslide"
    }
   },
   "source": [
    "<img src=\"./images/vitaldb_logo.png\" width=\"500\"/>"
   ]
  },
  {
   "cell_type": "markdown",
   "id": "046ffc98",
   "metadata": {
    "cell_style": "split",
    "slideshow": {
     "slide_type": "fragment"
    }
   },
   "source": [
    "# Cos'è VitalDB?\n",
    "E' un dataset di **6.388 pazienti** composto da **biosegnali intraoperatori** e **informazioni cliniche**. I dati dei biosegnali inclusi nel dataset sono di alta qualità, con segnali in forma d'onda a **500 Hz** e valori numerici registrati a intervalli compresi **tra 1 e 7 secondi**. Sono inoltre fornite oltre **60 informazioni cliniche relative all'intervento chirurgico**."
   ]
  },
  {
   "cell_type": "markdown",
   "id": "6431fa98",
   "metadata": {
    "slideshow": {
     "slide_type": "subslide"
    }
   },
   "source": [
    "# Diamogli un'occhiata..."
   ]
  },
  {
   "attachments": {},
   "cell_type": "markdown",
   "id": "53bcb030",
   "metadata": {
    "cell_style": "split",
    "slideshow": {
     "slide_type": "fragment"
    }
   },
   "source": [
    "<img src=\"./images/vitaldb_recordings.JPG\" width=\"600\" height=\"900\"/>"
   ]
  },
  {
   "attachments": {},
   "cell_type": "markdown",
   "id": "033aaf5b",
   "metadata": {
    "cell_style": "split",
    "slideshow": {
     "slide_type": "fragment"
    }
   },
   "source": [
    "<img src=\"./images/devices.JPG\" width=\"600\" height=\"800\"/>"
   ]
  },
  {
   "cell_type": "markdown",
   "id": "ff86a6f3",
   "metadata": {
    "slideshow": {
     "slide_type": "subslide"
    }
   },
   "source": [
    "# Come funziona VitalDBScraper?"
   ]
  },
  {
   "cell_type": "markdown",
   "id": "75ed94cb",
   "metadata": {
    "slideshow": {
     "slide_type": "subslide"
    }
   },
   "source": [
    "- Recupera **i dati clinici del paziente** (età, sesso, altezza, peso) tramite VitalDB Web API \n",
    "- Recupera i dati relativi ai **parametri vitali** del paziente acquisiti tramite il dispositivo Solar 8000M (Heart Rate, Respiratory Rate, Oxygen Saturation, Body Temperature, Systolic Blood Pressure, Diastolic Blood Pressure). Per fare questo si sfrutta la libreria Python vitaldb\n",
    "- Dato che il monitor multiparametrico Solar 8000M acquisisce i dati vitali ogni 2 secondi, la simulazione mantiene questa frequenza di campionamento inviando i dati a Fluentd **ogni 2 secondi**. Il timestamp viene aggiornato dinamicamente per allineare i dati all'orario corrente, replicando fedelmente il comportamento di un dispositivo reale.\n"
   ]
  },
  {
   "attachments": {},
   "cell_type": "markdown",
   "id": "27c8182e",
   "metadata": {
    "slideshow": {
     "slide_type": "subslide"
    }
   },
   "source": [
    "# Ma analizziamo i primi record..."
   ]
  },
  {
   "cell_type": "markdown",
   "id": "5ecd413b",
   "metadata": {
    "slideshow": {
     "slide_type": "subslide"
    }
   },
   "source": [
    "<img src=\"./images/first_records.JPG\" width=\"700\" height=\"50\"/>"
   ]
  },
  {
   "attachments": {},
   "cell_type": "markdown",
   "id": "101fa782",
   "metadata": {
    "cell_style": "split",
    "slideshow": {
     "slide_type": "subslide"
    }
   },
   "source": [
    "<img src=\"./images/meme-dataset.jpg\" width=\"400\" height=\"300\"/>"
   ]
  },
  {
   "cell_type": "markdown",
   "id": "ea65a77d",
   "metadata": {
    "cell_style": "split",
    "slideshow": {
     "slide_type": "fragment"
    }
   },
   "source": [
    "- **Ipotesi**: il dispositivo Solar8000M richiede un periodo iniziale di **calibrazione** prima che possa fornire delle letture accurate.\n",
    "- **Soluzione:** Il 25% dei dati iniziali e il 25% dei dati finali vengono eliminati, lasciando soltanto la metà centrale dei dati, corrispondente allo **scarto interquartile (IQR)**. "
   ]
  },
  {
   "cell_type": "markdown",
   "id": "58075b8a",
   "metadata": {
    "cell_style": "center",
    "slideshow": {
     "slide_type": "subslide"
    }
   },
   "source": [
    "I dati vengono inviati a Fluentd tramite **HTTP**, utilizzando richieste POST. Fluentd riceve questi dati e li inoltra a **Kafka**, scrivendoli sul topic **vitaldb**."
   ]
  },
  {
   "cell_type": "markdown",
   "id": "4972f50d",
   "metadata": {
    "slideshow": {
     "slide_type": "slide"
    }
   },
   "source": [
    "# Data Streaming: Kafka "
   ]
  },
  {
   "attachments": {},
   "cell_type": "markdown",
   "id": "1e2ce515",
   "metadata": {
    "cell_style": "split",
    "slideshow": {
     "slide_type": "subslide"
    }
   },
   "source": [
    "<img src=\"./images/kafka.png\" width=\"600\"/>"
   ]
  },
  {
   "cell_type": "markdown",
   "id": "14d9afb3",
   "metadata": {
    "cell_style": "split",
    "slideshow": {
     "slide_type": "fragment"
    }
   },
   "source": [
    "Kafka consente una comunicazione **asincrona** tra le componenti del progetto: Fluentd agisce come **producer**, inviando i dati a Kafka, mentre Spark agisce come **consumer**, prelevando i dati dai topic e processandoli in tempo reale.\n",
    "\n",
    "Grazie al sistema di **persistenza** di Kafka, i dati restano memorizzati nei topic per un periodo configurabile, anche se sono stati già consumati."
   ]
  },
  {
   "cell_type": "markdown",
   "id": "a0b305e5",
   "metadata": {
    "slideshow": {
     "slide_type": "slide"
    }
   },
   "source": [
    "# Data Processing: Spark"
   ]
  },
  {
   "cell_type": "markdown",
   "id": "e505bf92",
   "metadata": {
    "slideshow": {
     "slide_type": "subslide"
    }
   },
   "source": [
    "Quando un record contenente i parametri vitali di un paziente arriva a **Spark**, il dato viene arricchito con parametri derivati. Questo arricchimento consente una valutazione più approfondita dello stato clinico del paziente, migliorando sia l’interpretazione dei dati che il supporto alle decisioni mediche. In particolare, vengono calcolati:\n",
    "\n",
    "- **Pulse Pressure** = Pressione Sistolica - Pressione Diastolica\n",
    "- **BMI (Body Mass Index)** = Peso / (Altezza²)\n",
    "- **MAP (Mean Arterial Pressure)** = Pressione Diastolica + (Pressione Sistolica - Pressione Diastolica) / 3"
   ]
  },
  {
   "attachments": {},
   "cell_type": "markdown",
   "id": "9d37612d",
   "metadata": {
    "cell_style": "split",
    "slideshow": {
     "slide_type": "subslide"
    }
   },
   "source": [
    "<img src=\"./images/AI.webp\" width=\"500\"/>"
   ]
  },
  {
   "cell_type": "markdown",
   "id": "321992b3",
   "metadata": {
    "cell_style": "split",
    "slideshow": {
     "slide_type": "fragment"
    }
   },
   "source": [
    "Il dato viene ulteriormente arricchito dalla predizione del modello **Random Forest**, addestrato sul dataset **[Human Vital Signs](https://www.kaggle.com/datasets/nasirayub2/human-vital-sign-dataset/data)** di Kaggle.\n",
    "Il modello analizza i parametri vitali e classifica il paziente in una delle seguenti categorie di rischio:\n",
    "- **High Risk (Alto rischio)**\n",
    "- **Low Risk (Basso rischio)**\n",
    "\n",
    "Questo consente di **automatizzare la valutazione del rischio** in tempo reale e **superare i limiti delle soglie fisse**."
   ]
  },
  {
   "cell_type": "markdown",
   "id": "0dec8de1",
   "metadata": {
    "slideshow": {
     "slide_type": "skip"
    }
   },
   "source": [
    "# Validazione del modello"
   ]
  },
  {
   "cell_type": "markdown",
   "id": "4564860b",
   "metadata": {
    "cell_style": "split",
    "slideshow": {
     "slide_type": "subslide"
    }
   },
   "source": [
    "<img src=\"./images/validation.JPG\" width=\"300\"/>"
   ]
  },
  {
   "cell_type": "markdown",
   "id": "b6cad74c",
   "metadata": {
    "cell_style": "split",
    "slideshow": {
     "slide_type": "fragment"
    }
   },
   "source": [
    "- In questo contesto è importante che il modello abbia una **recall** elevata, anche a scapito di una **precision** più bassa.\n",
    "\n",
    "- Precision: 95%\n",
    "- Recall: 95%"
   ]
  },
  {
   "cell_type": "markdown",
   "id": "788ae348",
   "metadata": {
    "slideshow": {
     "slide_type": "slide"
    }
   },
   "source": [
    "# Data Indexing and Visualization: Elastic Cloud"
   ]
  },
  {
   "attachments": {},
   "cell_type": "markdown",
   "id": "023b5075",
   "metadata": {
    "cell_style": "split",
    "slideshow": {
     "slide_type": "subslide"
    }
   },
   "source": [
    "<img src=\"./images/drake_meme.JPG\" width=\"500\"/>"
   ]
  },
  {
   "cell_type": "markdown",
   "id": "87e82cc2",
   "metadata": {
    "cell_style": "split",
    "slideshow": {
     "slide_type": "fragment"
    }
   },
   "source": [
    "- **Elastic Cloud** è una piattaforma di cloud computing che offre servizi gestiti per **Elasticsearch** e altri strumenti del suo ecosistema, tra cui **Kibana**.\n",
    "\n",
    "- **Elasticsearch** usa l'indicizzazione per creare riferimenti strutturati ai dati, migliorando la velocità e l'efficienza nella **ricerca** e nel **recupero** delle informazioni, mentre **Kibana** permette di visualizzarli in modo intuitivo."
   ]
  },
  {
   "cell_type": "markdown",
   "id": "6e207845",
   "metadata": {
    "slideshow": {
     "slide_type": "slide"
    }
   },
   "source": [
    "# Demo time"
   ]
  },
  {
   "attachments": {
    "static_information.JPG": {
     "image/jpeg": "[encoded data removed]"
    }
   },
   "cell_type": "markdown",
   "id": "eb05183d",
   "metadata": {
    "cell_style": "split",
    "slideshow": {
     "slide_type": "subslide"
    }
   },
   "source": [
    "# Dati clinici\n",
    "![static_information.JPG](attachment:static_information.JPG)\n",
    "\n"
   ]
  },
  {
   "attachments": {
    "ai_risk_classification-2.JPG": {
     "image/jpeg": "[encoded data removed]"
    }
   },
   "cell_type": "markdown",
   "id": "bd42f4d8",
   "metadata": {
    "cell_style": "split",
    "slideshow": {
     "slide_type": "fragment"
    }
   },
   "source": [
    "# Grafico a torta per il rischio predetto dall'AI\n",
    "![ai_risk_classification-2.JPG](attachment:ai_risk_classification-2.JPG)"
   ]
  },
  {
   "cell_type": "markdown",
   "id": "663e3edc",
   "metadata": {
    "cell_style": "center",
    "slideshow": {
     "slide_type": "subslide"
    }
   },
   "source": [
    "# Trend temporale di ciascun parametro vitale\n",
    "Per ogni parametro vitale, è presente un grafico che mostra l'andamento nel tempo. Questa visualizzazione consente di identificare pattern, anomalie o tendenze che potrebbero indicare un deterioramento o un miglioramento delle condizioni del paziente."
   ]
  },
  {
   "attachments": {
    "trend%20temporale.JPG": {
     "image/jpeg": "[encoded data removed]"
    }
   },
   "cell_type": "markdown",
   "id": "67b2b9de",
   "metadata": {
    "cell_style": "center",
    "slideshow": {
     "slide_type": "subslide"
    }
   },
   "source": [
    "![trend%20temporale.JPG](attachment:trend%20temporale.JPG)"
   ]
  },
  {
   "cell_type": "markdown",
   "id": "e08c8512",
   "metadata": {
    "slideshow": {
     "slide_type": "subslide"
    }
   },
   "source": [
    "# Grafici Gauge"
   ]
  },
  {
   "attachments": {
    "gauge.JPG": {
     "image/jpeg": "[encoded data removed]"
    }
   },
   "cell_type": "markdown",
   "id": "b7b47cfd",
   "metadata": {
    "cell_style": "split",
    "slideshow": {
     "slide_type": "subslide"
    }
   },
   "source": [
    "![gauge.JPG](attachment:gauge.JPG)"
   ]
  },
  {
   "cell_type": "markdown",
   "id": "2195c099",
   "metadata": {
    "cell_style": "split",
    "slideshow": {
     "slide_type": "fragment"
    }
   },
   "source": [
    "Ogni parametro ha un Grafico Gauge che mostra la media dei valori nell'intervallo di tempo selezionato (ad esempio, ultimi 5 o 10 minuti). Il gauge è dotato di un sistema a colori che rappresenta il livello di rischio:\n",
    "- **Verde**: Valori nella norma\n",
    "- **Giallo**: Valori al limite, necessaria attenzione\n",
    "- **Rosso**: Valori critici, potenziale emergenza"
   ]
  },
  {
   "cell_type": "markdown",
   "id": "b25eeec3",
   "metadata": {
    "slideshow": {
     "slide_type": "subslide"
    }
   },
   "source": [
    "# Confronto tra time-series charts and gauge charts\n",
    "\n",
    "L'integrazione dei due grafici visti in precedenza consente di ottenere un monitoraggio più efficace e dettagliato, riducendo il rischio di trascurare anomalie potenzialmente critiche.\n"
   ]
  },
  {
   "cell_type": "markdown",
   "id": "7f927811",
   "metadata": {
    "cell_style": "split",
    "slideshow": {
     "slide_type": "subslide"
    }
   },
   "source": [
    "- Il grafico gauge fornisce un'indicazione **immediata** del valore medio del parametro selezionato in un intervallo di tempo definito (es. ultimi 5 minuti). Questa rappresentazione consente di valutare **rapidamente** lo stato generale di salute del paziente, senza dover analizzare l'intera serie storica."
   ]
  },
  {
   "cell_type": "markdown",
   "id": "c050296d",
   "metadata": {
    "cell_style": "split",
    "slideshow": {
     "slide_type": "fragment"
    }
   },
   "source": [
    "- Sebbene il valore medio fornito dal gauge sia utile, esso può **nascondere fluttuazioni significative**. Il grafico che mostra la variazione nel tempo del parametro consente di evidenziare eventuali **picchi** o **anomalie** che potrebbero una semplice media potrebbe **mascherare**."
   ]
  },
  {
   "cell_type": "markdown",
   "id": "15696b98",
   "metadata": {
    "slideshow": {
     "slide_type": "slide"
    }
   },
   "source": [
    "# Grazie per l'attenzione!"
   ]
  },
  {
   "cell_type": "markdown",
   "id": "d3c27774",
   "metadata": {},
   "source": [
    "<img src=\"./images/drake_meme.jpg\" width=\"200\"/>\n",
    "\n"
   ]
  },
  {
   "cell_type": "markdown",
   "id": "e3249472",
   "metadata": {},
   "source": [
    "![Descrizione dell'immagine](file:///C:/Users/loren/Desktop/images/drake_meme.jpg)"
   ]
  },
  {
   "cell_type": "markdown",
   "id": "00931aff",
   "metadata": {},
   "source": []
  }
 ],
 "metadata": {
  "celltoolbar": "Slideshow",
  "kernelspec": {
   "display_name": "Python 3 (ipykernel)",
   "language": "python",
   "name": "python3"
  },
  "language_info": {
   "codemirror_mode": {
    "name": "ipython",
    "version": 3
   },
   "file_extension": ".py",
   "mimetype": "text/x-python",
   "name": "python",
   "nbconvert_exporter": "python",
   "pygments_lexer": "ipython3",
   "version": "3.9.13"
  }
 },
 "nbformat": 4,
 "nbformat_minor": 5
}
